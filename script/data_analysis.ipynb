{
 "cells": [
  {
   "cell_type": "code",
   "execution_count": 1,
   "metadata": {},
   "outputs": [],
   "source": [
    "import pandas as pd\n",
    "import numpy as np\n",
    "from pathlib import Path\n",
    "from scipy.stats import zscore"
   ]
  },
  {
   "cell_type": "code",
   "execution_count": 2,
   "metadata": {},
   "outputs": [],
   "source": [
    "def extract_data(source):\n",
    "    \"\"\"\n",
    "    Load multiple excel files into one pandas dataframe\n",
    "    :param source: source path\n",
    "    :return: dataframe\n",
    "    \"\"\"\n",
    "\n",
    "    # read files\n",
    "    path = Path(source)\n",
    "    # create empty dataframe\n",
    "    df = pd.DataFrame()\n",
    "    # iterate all files\n",
    "    for file in path.iterdir():\n",
    "        df = df.append(pd.read_excel(file, engine=\"openpyxl\"))\n",
    "\n",
    "    return df"
   ]
  },
  {
   "cell_type": "code",
   "execution_count": 3,
   "metadata": {},
   "outputs": [],
   "source": [
    "df = extract_data(\"../data/\")\n",
    "df.shape"
   ]
  },
  {
   "cell_type": "code",
   "execution_count": null,
   "metadata": {},
   "outputs": [],
   "source": [
    "def transform_data(df, name):\n",
    "    \"\"\"\n",
    "    filter only GBK data.\n",
    "    :param df: main dataframe\n",
    "    :param name: franchisee name\n",
    "    :return dataframe\n",
    "    \"\"\"\n",
    "    # # select only specific franchisee and franchisee activity\n",
    "    # df = df.loc[df[\"Franchisee\"].str.contains(\"GBK\")]\n",
    "    # rename columns to lowercase and add underscore between column names\n",
    "    df.columns = df.columns.str.lower()\n",
    "    df.columns = df.columns.str.replace(\" \", \"_\")\n",
    "\n",
    "    # sort values by date of transaction, user and transaction type\n",
    "    df.sort_values([\"date_of_transaction\", \"user\", \"transaction_type\"], inplace=True)\n",
    "\n",
    "    # select franchisee based on name\n",
    "    df = df.loc[df[\"user\"].str.contains(name) & df[\"user_type\"].str.contains(\"Franchisee\")]\n",
    "\n",
    "    # drop unnecessary columns\n",
    "    df.drop(columns=[\"transaction_sl\", \"user_id\", \"country\", \"user_estd_date\", \"transaction_type_level_2\",\n",
    "        \"cost_name\", \"service\", \"attribute\", \"customer_name\", \"customer_id\", \"usd_net_amount\", \"currency_(iso_code)\",\n",
    "        \"is_imported\", \"transaction_at\", \"exchange_rate\"], inplace=True)\n",
    "    df.reset_index(drop=True, inplace=True)\n",
    "\n",
    "    # return df\n",
    "    return df"
   ]
  },
  {
   "cell_type": "code",
   "execution_count": null,
   "metadata": {},
   "outputs": [],
   "source": [
    "gbk = transform_data(df, \"GBK\")\n",
    "gbk.shape"
   ]
  },
  {
   "cell_type": "code",
   "execution_count": null,
   "metadata": {},
   "outputs": [],
   "source": [
    "def transactional_acitivity(df):\n",
    "    \"\"\"\n",
    "    from the franchisee dataframe determine transactional activities\n",
    "    :param df: franchisee dataframe\n",
    "    :return dataframe\n",
    "    \"\"\"\n",
    "    # return transactional activity\n",
    "    # groupby date of transaction, transaction type, business category, product category & transaction id\n",
    "    df = df.groupby([\"date_of_transaction\", \"transaction_type\", \"business_category\", \"product_category\",\n",
    "            \"transaction_id\"], as_index=False) \\\n",
    "        .agg(unique_product = (\"transaction_id\", \"count\"),\n",
    "            total_amount = (\"net_amount\", \"sum\"))\n",
    "    \n",
    "    # find daily number of transactions\n",
    "    num_transaction = df.groupby(\"date_of_transaction\", as_index=False)[\"transaction_id\"].count()\n",
    "    # convert date of transaction to datetime\n",
    "    num_transaction[\"date_of_transaction\"] = pd.to_datetime(num_transaction[\"date_of_transaction\"])\n",
    "\n",
    "    # groupby date of transaction, transaction type & product category & unstack the dataframe\n",
    "    df = df.groupby([\"date_of_transaction\", \"transaction_type\"]) \\\n",
    "        .agg(total_amount = (\"total_amount\", \"sum\")).unstack()\n",
    "    \n",
    "    # convert multilevel column to single level & rename column names (list comprehension)\n",
    "    df.columns = [\"_\".join(col) for col in df.columns]\n",
    "    # convert all column names to lowercase\n",
    "    df.columns = df.columns.str.lower()\n",
    "\n",
    "    # fill missing dates with 0 for time series analysis\n",
    "    # create idx based on start and end date of the franchisee activity\n",
    "    idx = pd.date_range(df.index.min(), df.index.max())\n",
    "    # set index as datetime index\n",
    "    df.index = pd.DatetimeIndex(df.index)\n",
    "    # reindex the dataframe\n",
    "    df = df.reindex(idx, fill_value=np.nan)\n",
    "\n",
    "    # reset_index\n",
    "    df.reset_index(inplace=True)\n",
    "\n",
    "    # rename index to date of transaction\n",
    "    df.rename(columns={\"index\":\"date_of_transaction\"}, inplace=True)\n",
    "\n",
    "    # add number of transaction column to the dataframe\n",
    "    df = df.merge(num_transaction, on=\"date_of_transaction\", how=\"left\")\n",
    "\n",
    "    # rename transaction id to number of transaction\n",
    "    df.rename(columns={\"transaction_id\":\"number_of_transaction\"}, inplace=True)\n",
    "\n",
    "    # replace NaN with 0\n",
    "    df.fillna(0, inplace=True)\n",
    "\n",
    "    # daily cash-flow\n",
    "    df[\"cashout\"] = df[\"total_amount_processing\"] + df[\"total_amount_purchase\"]\n",
    "    df[\"cashin\"] = df[\"total_amount_sale\"]\n",
    "    df.drop(columns=[\"total_amount_processing\", \"total_amount_purchase\", \"total_amount_sale\"], inplace=True)\n",
    "    \n",
    "    return df"
   ]
  },
  {
   "cell_type": "code",
   "execution_count": null,
   "metadata": {},
   "outputs": [],
   "source": [
    "gbk = transactional_acitivity(gbk)\n",
    "gbk.head(30)"
   ]
  },
  {
   "cell_type": "code",
   "execution_count": null,
   "metadata": {},
   "outputs": [],
   "source": [
    "if __name__ == \"__main__\":\n",
    "    # extract data\n",
    "    SOURCE_DATA = \"../data/\"\n",
    "    df = extract_data(SOURCE_DATA)\n",
    "\n",
    "    # transform data of a specific franchisee\n",
    "    name = \"GBK\"\n",
    "    gbk = transform_data(df, name)\n",
    "\n",
    "    # transactional_activity\n",
    "    gbk = transactional_acitivity(gbk)\n",
    "    \n",
    "    print(gbk.head())"
   ]
  },
  {
   "cell_type": "code",
   "execution_count": null,
   "metadata": {},
   "outputs": [],
   "source": []
  }
 ],
 "metadata": {
  "interpreter": {
   "hash": "926900ac88fb6c1ecbac4ef2ff95b22b227f2e6c977fd03b9098c7c511c3bfbc"
  },
  "kernelspec": {
   "display_name": "Python 3.8.10 64-bit ('venv': venv)",
   "language": "python",
   "name": "python3"
  },
  "language_info": {
   "codemirror_mode": {
    "name": "ipython",
    "version": 3
   },
   "file_extension": ".py",
   "mimetype": "text/x-python",
   "name": "python",
   "nbconvert_exporter": "python",
   "pygments_lexer": "ipython3",
   "version": "3.8.10"
  },
  "orig_nbformat": 4
 },
 "nbformat": 4,
 "nbformat_minor": 2
}
