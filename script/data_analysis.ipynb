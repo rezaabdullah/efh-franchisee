{
 "cells": [
  {
   "cell_type": "code",
   "execution_count": 1,
   "metadata": {},
   "outputs": [
    {
     "name": "stderr",
     "output_type": "stream",
     "text": [
      "/tmp/ipykernel_581/3770235432.py:6: UserWarning: \n",
      "The dash_core_components package is deprecated. Please replace\n",
      "`import dash_core_components as dcc` with `from dash import dcc`\n",
      "  import dash_core_components as dcc\n",
      "/tmp/ipykernel_581/3770235432.py:7: UserWarning: \n",
      "The dash_html_components package is deprecated. Please replace\n",
      "`import dash_html_components as html` with `from dash import html`\n",
      "  import dash_html_components as html\n"
     ]
    }
   ],
   "source": [
    "import pandas as pd\n",
    "import numpy as np\n",
    "from pathlib import Path\n",
    "from scipy.stats import zscore\n",
    "from jupyter_dash import JupyterDash\n",
    "import dash_core_components as dcc\n",
    "import dash_html_components as html\n",
    "# from dash.dependencies import Input, Output\n",
    "import plotly.express as px"
   ]
  },
  {
   "cell_type": "code",
   "execution_count": 2,
   "metadata": {},
   "outputs": [],
   "source": [
    "def extract_data(source):\n",
    "    \"\"\"\n",
    "    Load multiple excel files into one pandas dataframe\n",
    "    :param source: source path\n",
    "    :return: dataframe\n",
    "    \"\"\"\n",
    "\n",
    "    # read files\n",
    "    path = Path(source)\n",
    "    # create empty dataframe\n",
    "    df = pd.DataFrame()\n",
    "    # iterate all files\n",
    "    for file in path.iterdir():\n",
    "        df = df.append(pd.read_excel(file, engine=\"openpyxl\"))\n",
    "\n",
    "    return df"
   ]
  },
  {
   "cell_type": "code",
   "execution_count": 3,
   "metadata": {},
   "outputs": [
    {
     "data": {
      "text/plain": [
       "(97758, 43)"
      ]
     },
     "execution_count": 3,
     "metadata": {},
     "output_type": "execute_result"
    }
   ],
   "source": [
    "df = extract_data(\"../data/\")\n",
    "df.shape"
   ]
  },
  {
   "cell_type": "code",
   "execution_count": 4,
   "metadata": {},
   "outputs": [],
   "source": [
    "def transform_data(df, name):\n",
    "    \"\"\"\n",
    "    filter only GBK data.\n",
    "    :param df: main dataframe\n",
    "    :param name: franchisee name\n",
    "    :return dataframe\n",
    "    \"\"\"\n",
    "    # # select only specific franchisee and franchisee activity\n",
    "    # df = df.loc[df[\"Franchisee\"].str.contains(\"GBK\")]\n",
    "    # rename columns to lowercase and add underscore between column names\n",
    "    df.columns = df.columns.str.lower()\n",
    "    df.columns = df.columns.str.replace(\" \", \"_\")\n",
    "\n",
    "    # sort values by date of transaction, user and transaction type\n",
    "    df.sort_values([\"date_of_transaction\", \"user\", \"transaction_type\"], inplace=True)\n",
    "\n",
    "    # select franchisee based on name\n",
    "    df = df.loc[df[\"user\"].str.contains(name) & df[\"user_type\"].str.contains(\"Franchisee\")]\n",
    "\n",
    "    # drop unnecessary columns\n",
    "    df.drop(columns=[\"transaction_sl\", \"user_id\", \"country\", \"user_estd_date\", \"transaction_type_level_2\",\n",
    "        \"cost_name\", \"service\", \"attribute\", \"customer_name\", \"customer_id\", \"usd_net_amount\", \"currency_(iso_code)\",\n",
    "        \"is_imported\", \"transaction_at\", \"exchange_rate\"], inplace=True)\n",
    "    df.reset_index(drop=True, inplace=True)\n",
    "\n",
    "    # return df\n",
    "    return df"
   ]
  },
  {
   "cell_type": "code",
   "execution_count": 5,
   "metadata": {},
   "outputs": [
    {
     "name": "stderr",
     "output_type": "stream",
     "text": [
      "/home/reza/lcp/gbk/venv/lib/python3.8/site-packages/pandas/core/frame.py:4906: SettingWithCopyWarning: \n",
      "A value is trying to be set on a copy of a slice from a DataFrame\n",
      "\n",
      "See the caveats in the documentation: https://pandas.pydata.org/pandas-docs/stable/user_guide/indexing.html#returning-a-view-versus-a-copy\n",
      "  return super().drop(\n"
     ]
    },
    {
     "data": {
      "text/plain": [
       "(10295, 28)"
      ]
     },
     "execution_count": 5,
     "metadata": {},
     "output_type": "execute_result"
    }
   ],
   "source": [
    "gbk = transform_data(df, \"GBK\")\n",
    "gbk.shape"
   ]
  },
  {
   "cell_type": "code",
   "execution_count": 6,
   "metadata": {},
   "outputs": [],
   "source": [
    "def transactional_acitivity(df):\n",
    "    \"\"\"\n",
    "    from the franchisee dataframe determine transactional activities\n",
    "    :param df: franchisee dataframe\n",
    "    :return dataframe\n",
    "    \"\"\"\n",
    "    # return transactional activity\n",
    "    # groupby date of transaction, transaction type, business category, product category & transaction id\n",
    "    df = df.groupby([\"date_of_transaction\", \"transaction_type\", \"business_category\", \"product_category\",\n",
    "            \"transaction_id\"], as_index=False) \\\n",
    "        .agg(unique_product = (\"transaction_id\", \"count\"),\n",
    "            total_amount = (\"net_amount\", \"sum\"))\n",
    "    \n",
    "    # find daily number of transactions\n",
    "    num_transaction = df.groupby(\"date_of_transaction\", as_index=False)[\"transaction_id\"].count()\n",
    "    # convert date of transaction to datetime\n",
    "    num_transaction[\"date_of_transaction\"] = pd.to_datetime(num_transaction[\"date_of_transaction\"])\n",
    "\n",
    "    # groupby date of transaction, transaction type & product category & unstack the dataframe\n",
    "    df = df.groupby([\"date_of_transaction\", \"transaction_type\"]) \\\n",
    "        .agg(total_amount = (\"total_amount\", \"sum\")).unstack()\n",
    "    \n",
    "    # convert multilevel column to single level & rename column names (list comprehension)\n",
    "    df.columns = [\"_\".join(col) for col in df.columns]\n",
    "    # convert all column names to lowercase\n",
    "    df.columns = df.columns.str.lower()\n",
    "\n",
    "    # fill missing dates with 0 for time series analysis\n",
    "    # create idx based on start and end date of the franchisee activity\n",
    "    idx = pd.date_range(df.index.min(), df.index.max())\n",
    "    # set index as datetime index\n",
    "    df.index = pd.DatetimeIndex(df.index)\n",
    "    # reindex the dataframe\n",
    "    df = df.reindex(idx, fill_value=np.nan)\n",
    "\n",
    "    # reset_index\n",
    "    df.reset_index(inplace=True)\n",
    "\n",
    "    # rename index to date of transaction\n",
    "    df.rename(columns={\"index\":\"date_of_transaction\"}, inplace=True)\n",
    "\n",
    "    # add number of transaction column to the dataframe\n",
    "    df = df.merge(num_transaction, on=\"date_of_transaction\", how=\"left\")\n",
    "\n",
    "    # rename transaction id to number of transaction\n",
    "    df.rename(columns={\"transaction_id\":\"number_of_transaction\"}, inplace=True)\n",
    "\n",
    "    # replace NaN with 0\n",
    "    df.fillna(0, inplace=True)\n",
    "\n",
    "    # daily cash-flow\n",
    "    df[\"cashout\"] = df[\"total_amount_processing\"] + df[\"total_amount_purchase\"]\n",
    "    df[\"cashin\"] = df[\"total_amount_sale\"]\n",
    "    df.drop(columns=[\"total_amount_processing\", \"total_amount_purchase\", \"total_amount_sale\"], inplace=True)\n",
    "    \n",
    "    return df"
   ]
  },
  {
   "cell_type": "code",
   "execution_count": 7,
   "metadata": {},
   "outputs": [
    {
     "data": {
      "text/html": [
       "<div>\n",
       "<style scoped>\n",
       "    .dataframe tbody tr th:only-of-type {\n",
       "        vertical-align: middle;\n",
       "    }\n",
       "\n",
       "    .dataframe tbody tr th {\n",
       "        vertical-align: top;\n",
       "    }\n",
       "\n",
       "    .dataframe thead th {\n",
       "        text-align: right;\n",
       "    }\n",
       "</style>\n",
       "<table border=\"1\" class=\"dataframe\">\n",
       "  <thead>\n",
       "    <tr style=\"text-align: right;\">\n",
       "      <th></th>\n",
       "      <th>date_of_transaction</th>\n",
       "      <th>number_of_transaction</th>\n",
       "      <th>cashout</th>\n",
       "      <th>cashin</th>\n",
       "    </tr>\n",
       "  </thead>\n",
       "  <tbody>\n",
       "    <tr>\n",
       "      <th>0</th>\n",
       "      <td>2021-01-01</td>\n",
       "      <td>13.0</td>\n",
       "      <td>3410.0</td>\n",
       "      <td>3524.95</td>\n",
       "    </tr>\n",
       "    <tr>\n",
       "      <th>1</th>\n",
       "      <td>2021-01-02</td>\n",
       "      <td>15.0</td>\n",
       "      <td>0.0</td>\n",
       "      <td>12278.00</td>\n",
       "    </tr>\n",
       "    <tr>\n",
       "      <th>2</th>\n",
       "      <td>2021-01-03</td>\n",
       "      <td>13.0</td>\n",
       "      <td>0.0</td>\n",
       "      <td>30776.00</td>\n",
       "    </tr>\n",
       "    <tr>\n",
       "      <th>3</th>\n",
       "      <td>2021-01-04</td>\n",
       "      <td>14.0</td>\n",
       "      <td>10.0</td>\n",
       "      <td>16715.00</td>\n",
       "    </tr>\n",
       "    <tr>\n",
       "      <th>4</th>\n",
       "      <td>2021-01-05</td>\n",
       "      <td>27.0</td>\n",
       "      <td>0.0</td>\n",
       "      <td>63314.00</td>\n",
       "    </tr>\n",
       "  </tbody>\n",
       "</table>\n",
       "</div>"
      ],
      "text/plain": [
       "  date_of_transaction  number_of_transaction  cashout    cashin\n",
       "0          2021-01-01                   13.0   3410.0   3524.95\n",
       "1          2021-01-02                   15.0      0.0  12278.00\n",
       "2          2021-01-03                   13.0      0.0  30776.00\n",
       "3          2021-01-04                   14.0     10.0  16715.00\n",
       "4          2021-01-05                   27.0      0.0  63314.00"
      ]
     },
     "execution_count": 7,
     "metadata": {},
     "output_type": "execute_result"
    }
   ],
   "source": [
    "gbk = transactional_acitivity(gbk)\n",
    "gbk.head()"
   ]
  },
  {
   "cell_type": "code",
   "execution_count": 8,
   "metadata": {},
   "outputs": [
    {
     "name": "stderr",
     "output_type": "stream",
     "text": [
      "/home/reza/lcp/gbk/venv/lib/python3.8/site-packages/pandas/core/frame.py:4906: SettingWithCopyWarning: \n",
      "A value is trying to be set on a copy of a slice from a DataFrame\n",
      "\n",
      "See the caveats in the documentation: https://pandas.pydata.org/pandas-docs/stable/user_guide/indexing.html#returning-a-view-versus-a-copy\n",
      "  return super().drop(\n"
     ]
    },
    {
     "name": "stdout",
     "output_type": "stream",
     "text": [
      "Dash app running on http://127.0.0.1:8050/\n"
     ]
    }
   ],
   "source": [
    "if __name__ == \"__main__\":\n",
    "    # extract data\n",
    "    SOURCE_DATA = \"../data/\"\n",
    "    df = extract_data(SOURCE_DATA)\n",
    "\n",
    "    # transform data of a specific franchisee\n",
    "    name = \"GBK\"\n",
    "    gbk = transform_data(df, name)\n",
    "\n",
    "    # transactional_activity\n",
    "    gbk = transactional_acitivity(gbk)\n",
    "    \n",
    "    # print(gbk.head())\n",
    "\n",
    "    # create figure\n",
    "    fig = px.line(gbk, x=\"date_of_transaction\", y=\"number_of_transaction\")\n",
    "\n",
    "    # build layout\n",
    "    app = JupyterDash(__name__)\n",
    "\n",
    "    colors = {\n",
    "        \"background\": \"#111111\",\n",
    "        \"text\": \"#7FDBFF\"\n",
    "    }\n",
    "    \n",
    "    # app.layout=html.Div(children=[\n",
    "    #     html.H1(\"Daily Number of Activity\"),\n",
    "\n",
    "    #     dcc.Graph(\n",
    "    #         id=\"daily-acitivity\",\n",
    "    #         figure=fig\n",
    "    #     )\n",
    "    # ])\n",
    "\n",
    "    app.layout=html.Div(style={\"backgroundColor\": colors[\"background\"]}, children=[\n",
    "        html.H1(\n",
    "            children=\"Daily number of activity\",\n",
    "            style={\n",
    "                \"textAlign\": \"center\",\n",
    "                \"color\": colors[\"text\"]\n",
    "            }\n",
    "        ),\n",
    "        dcc.Graph(\n",
    "            id=\"activity-line-chart\",\n",
    "            figure=fig\n",
    "        )\n",
    "    ])\n",
    "\n",
    "    app.run_server(mode=\"external\", debug=True)"
   ]
  },
  {
   "cell_type": "code",
   "execution_count": null,
   "metadata": {},
   "outputs": [],
   "source": []
  }
 ],
 "metadata": {
  "interpreter": {
   "hash": "926900ac88fb6c1ecbac4ef2ff95b22b227f2e6c977fd03b9098c7c511c3bfbc"
  },
  "kernelspec": {
   "display_name": "Python 3.8.10 64-bit ('venv': venv)",
   "language": "python",
   "name": "python3"
  },
  "language_info": {
   "codemirror_mode": {
    "name": "ipython",
    "version": 3
   },
   "file_extension": ".py",
   "mimetype": "text/x-python",
   "name": "python",
   "nbconvert_exporter": "python",
   "pygments_lexer": "ipython3",
   "version": "3.8.10"
  },
  "orig_nbformat": 4
 },
 "nbformat": 4,
 "nbformat_minor": 2
}
